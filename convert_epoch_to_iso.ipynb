{
 "cells": [
  {
   "cell_type": "code",
   "execution_count": 10,
   "metadata": {
    "id": "0kKhARyrMVTl"
   },
   "outputs": [],
   "source": [
    "import pandas as pd\n",
    "import numpy as np\n",
    "import datetime as dt\n",
    "import csv"
   ]
  },
  {
   "cell_type": "code",
   "execution_count": 11,
   "metadata": {
    "colab": {
     "base_uri": "https://localhost:8080/"
    },
    "id": "e69BAP1eNrKy",
    "outputId": "c132361d-c377-40c3-d7cd-b9810601967e"
   },
   "outputs": [],
   "source": [
    "df = pd.read_csv(\"original csv/NSE_RELIANCE, 5.csv\")\n",
    "df['time'] = pd.to_datetime(df['time'],unit='s') + pd.Timedelta(minutes=330)"
   ]
  },
  {
   "cell_type": "code",
   "execution_count": 12,
   "metadata": {
    "colab": {
     "base_uri": "https://localhost:8080/"
    },
    "id": "3H2cx4iNQBQh",
    "outputId": "634184ff-1ac1-44f1-d67d-333bec713d23"
   },
   "outputs": [],
   "source": [
    "df.to_csv('new csv/NSE_RELIANCE_5MIN.csv', index=False, header=False, quoting=csv.QUOTE_NONE)"
   ]
  }
 ],
 "metadata": {
  "colab": {
   "collapsed_sections": [],
   "name": "convert_epoch_to_iso",
   "provenance": []
  },
  "kernelspec": {
   "display_name": "Python 3",
   "language": "python",
   "name": "python3"
  },
  "language_info": {
   "codemirror_mode": {
    "name": "ipython",
    "version": 3
   },
   "file_extension": ".py",
   "mimetype": "text/x-python",
   "name": "python",
   "nbconvert_exporter": "python",
   "pygments_lexer": "ipython3",
   "version": "3.8.5"
  }
 },
 "nbformat": 4,
 "nbformat_minor": 1
}
